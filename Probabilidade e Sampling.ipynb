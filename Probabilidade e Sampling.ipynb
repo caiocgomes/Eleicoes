{
 "cells": [
  {
   "cell_type": "code",
   "execution_count": 71,
   "metadata": {},
   "outputs": [],
   "source": [
    "import random\n",
    "import numpy as np\n",
    "import functools\n",
    "from collections import Counter, defaultdict\n",
    "import math\n",
    "import matplotlib.pyplot as pp\n"
   ]
  },
  {
   "cell_type": "markdown",
   "metadata": {},
   "source": [
    "# Sampling e Estatistica\n",
    "\n",
    "Vamos começar imaginando que em uma urna com 100 bolinhas, e dessas 50 são da cor azul e 50 da cor vermelha. Se você tirar 10 bolinhas desta urna, quantas serão vermelhas? A maioria das pessoas responderá que 5 serão vermelhas. Vamos verificar!"
   ]
  },
  {
   "cell_type": "code",
   "execution_count": 135,
   "metadata": {},
   "outputs": [],
   "source": [
    "\n",
    "N = 1000000\n",
    "bolas_na_urna ={'vermelho':.6*N,'azul':.4*N}\n",
    "numero_de_bolas_sorteadas = 1000\n",
    "numero_repeticoes = 1000"
   ]
  },
  {
   "cell_type": "code",
   "execution_count": 136,
   "metadata": {},
   "outputs": [
    {
     "name": "stdout",
     "output_type": "stream",
     "text": [
      "{'vermelho': 600000.0, 'azul': 400000.0}\n",
      "A urna contem 600000 bolas da cor vermelho, ou seja 60.0%\n",
      "A urna contem 400000 bolas da cor azul, ou seja 40.0%\n",
      "-------------------\n",
      "Ao retirar 1000 bolas aleatoriamente: \n",
      "\t 608 são vermelho, ou seja 60.8%\n",
      "\t 392 são azul, ou seja 39.2%\n"
     ]
    }
   ],
   "source": [
    "urna = []\n",
    "print(bolas_na_urna)\n",
    "for key in bolas_na_urna.keys():\n",
    "    i=0\n",
    "    while(i < bolas_na_urna[key]):\n",
    "        urna.append(key)\n",
    "        i+=1\n",
    "\n",
    "cont = defaultdict(int)\n",
    "for i in urna:\n",
    "    cont[i]+=1\n",
    "for x,y in cont.items():\n",
    "    z = y*100./N\n",
    "    print(f'A urna contem {y} bolas da cor {x}, ou seja {z}%')\n",
    "\n",
    "\n",
    "bolas_sorteadas = {}\n",
    "sorteado = []\n",
    "for i in range(numero_de_bolas_sorteadas):\n",
    "    sorteado.append(urna[np.random.randint(0,N-1)])\n",
    "for key in bolas_na_urna.keys():\n",
    "    bolas_sorteadas[key]=sorteado.count(key)\n",
    "print('-------------------')\n",
    "print(f'Ao retirar {numero_de_bolas_sorteadas} bolas aleatoriamente: ')\n",
    "for x,y in bolas_sorteadas.items():\n",
    "    z = y*100./numero_de_bolas_sorteadas\n",
    "    print(f'\\t {y} são {x}, ou seja {z}%')\n",
    "\n"
   ]
  },
  {
   "cell_type": "markdown",
   "metadata": {},
   "source": [
    "# Mas se eu repetir diversas vezes o sorteio?"
   ]
  },
  {
   "cell_type": "code",
   "execution_count": 137,
   "metadata": {},
   "outputs": [],
   "source": [
    "resultados_diversas_pesquisas={}\n",
    "for key in bolas_na_urna.keys():\n",
    "    resultados_diversas_pesquisas[key]=[]\n",
    "\n",
    "\n",
    "\n",
    "for i in range(numero_repeticoes):\n",
    "    #random.shuffle(urna)\n",
    "\n",
    "    bolas_sorteadas = {}\n",
    "    sorteado = []\n",
    "    for i in range(numero_de_bolas_sorteadas):\n",
    "        sorteado.append(urna[np.random.randint(0,N-1)])\n",
    "    for key in bolas_na_urna.keys():\n",
    "        bolas_sorteadas[key]=sorteado.count(key)\n",
    "    for x,y in bolas_sorteadas.items():\n",
    "        z = y*1./numero_de_bolas_sorteadas\n",
    "        resultados_diversas_pesquisas[x].append(z)\n",
    "\n",
    "    "
   ]
  },
  {
   "cell_type": "code",
   "execution_count": 138,
   "metadata": {
    "scrolled": false
   },
   "outputs": [
    {
     "name": "stdout",
     "output_type": "stream",
     "text": [
      "A media do vermelho é 60.0135%\n",
      "A media do azul é 39.9865%\n"
     ]
    },
    {
     "data": {
      "image/png": "[encoded data removed]",
      "text/plain": [
       "<matplotlib.figure.Figure at 0x11440eb38>"
      ]
     },
     "metadata": {},
     "output_type": "display_data"
    }
   ],
   "source": [
    "pp.figure(figsize=(10, 9))\n",
    "for key in bolas_na_urna.keys():\n",
    "    pp.hist(resultados_diversas_pesquisas[key],20)\n",
    "    pp.xlim(0,1)\n",
    "    media_cor = 100.*np.average(resultados_diversas_pesquisas[key])\n",
    "    print(f'A media do {key} é {media_cor}%')\n"
   ]
  }
 ],
 "metadata": {
  "kernelspec": {
   "display_name": "Python 3",
   "language": "python",
   "name": "python3"
  },
  "language_info": {
   "codemirror_mode": {
    "name": "ipython",
    "version": 3
   },
   "file_extension": ".py",
   "mimetype": "text/x-python",
   "name": "python",
   "nbconvert_exporter": "python",
   "pygments_lexer": "ipython3",
   "version": "3.6.4"
  }
 },
 "nbformat": 4,
 "nbformat_minor": 2
}
